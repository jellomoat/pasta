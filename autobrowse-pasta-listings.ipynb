{
 "cells": [
  {
   "cell_type": "markdown",
   "id": "8f8e090c",
   "metadata": {},
   "source": [
    "# Get listing pages"
   ]
  },
  {
   "cell_type": "code",
   "execution_count": 74,
   "id": "b8177201",
   "metadata": {},
   "outputs": [],
   "source": [
    "import os\n",
    "import re\n",
    "import time\n",
    "\n",
    "from datetime import date\n",
    "from seleniumwire import webdriver\n",
    "from selenium.webdriver.common.by import By\n",
    "from selenium.webdriver.common.keys import Keys\n",
    "\n",
    "import chromedriver_binary"
   ]
  },
  {
   "cell_type": "markdown",
   "id": "bb6b3e88",
   "metadata": {},
   "source": [
    "## Set up browser and driver"
   ]
  },
  {
   "cell_type": "code",
   "execution_count": 30,
   "id": "7b41c693",
   "metadata": {},
   "outputs": [],
   "source": [
    "def open_browser(headless=False):\n",
    "    \"\"\"\n",
    "    Opens a new automated browser window with all tell-tales of automated browser disabled\n",
    "    \"\"\"\n",
    "    options = webdriver.ChromeOptions()\n",
    "    options.add_argument(\"start-maximized\")\n",
    "    if headless:\n",
    "        options.add_argument(\"--headless\")\n",
    "    \n",
    "    # remove all signs of this being an automated browser\n",
    "    options.add_argument('--disable-blink-features=AutomationControlled')\n",
    "    options.add_experimental_option(\"excludeSwitches\", [\"enable-automation\"])\n",
    "    options.add_experimental_option('useAutomationExtension', False)\n",
    "\n",
    "    # open the browser with the new options\n",
    "    driver = webdriver.Chrome(options=options)\n",
    "    return driver"
   ]
  },
  {
   "cell_type": "code",
   "execution_count": 124,
   "id": "14388c65",
   "metadata": {},
   "outputs": [],
   "source": [
    "class CPLSeleniumManager:\n",
    "    def __init__(self):\n",
    "        self.setup_fetch_dirs()\n",
    "        # visit the page\n",
    "        url = 'https://www.creepypasta.com/archive/?_orderby=date'\n",
    "        self.driver = self.open_driver()\n",
    "        self.driver.get(url)\n",
    "\n",
    "    def open_driver(self):\n",
    "        # open driver\n",
    "        try:\n",
    "            driver.close()\n",
    "        except:\n",
    "            print(\"no webdrivers open\")\n",
    "        finally:\n",
    "            driver = open_browser()\n",
    "        return driver\n",
    "\n",
    "    def setup_fetch_dirs(self):\n",
    "        # create dirs for page_source\n",
    "        # this is where all files will be saved\n",
    "        self.list_pages_dir = \"list-pages/\"\n",
    "        os.makedirs(self.list_pages_dir, exist_ok=True)\n",
    "        self.story_pages_dir = \"story-pages/\"\n",
    "        os.makedirs(self.story_pages_dir, exist_ok=True)\n",
    "        self.test_dir = \"test/\"\n",
    "        os.makedirs(self.test_dir, exist_ok=True)\n",
    "    \n",
    "    def close_popups(self):\n",
    "        for i in range(2):\n",
    "            CPLSeleniumAdHandler.close_first_popups(self.driver)\n",
    "            CPLSeleniumAdHandler.close_some_ads(self.driver)\n",
    "            time.sleep(2)"
   ]
  },
  {
   "cell_type": "markdown",
   "id": "cc61f9d3",
   "metadata": {},
   "source": [
    "## Close ads that block target elements"
   ]
  },
  {
   "cell_type": "code",
   "execution_count": 125,
   "id": "39865f10",
   "metadata": {},
   "outputs": [],
   "source": [
    "class CPLSeleniumAdHandler:    \n",
    "    @classmethod\n",
    "    # TODO: accept/reject popup\n",
    "    def close_first_popups(cls, driver):\n",
    "        # todo: wait until load\n",
    "        try:\n",
    "            signup_updates_popup_element = driver.find_element(\n",
    "                By.XPATH,\n",
    "                '//*[@id=\"onesignal-slidedown-cancel-button\"]'\n",
    "            )\n",
    "            signup_updates_popup_element.click()\n",
    "        except:\n",
    "            print(\"no signup popup element on page\")\n",
    "    \n",
    "    @classmethod\n",
    "    def close_some_ads(cls, driver):\n",
    "        try:\n",
    "            pg_top_ad_element_to_close = driver.find_element(\n",
    "                By.XPATH,\n",
    "                '//*[@id=\"pw-close-btn\"]'\n",
    "            )\n",
    "            pg_top_ad_element_to_close.click()\n",
    "        except:\n",
    "            print(\"no pg top ad element on page\")\n",
    "\n",
    "        try:\n",
    "            pg_btm_ad_element_to_close = driver.find_element(\n",
    "                By.XPATH,\n",
    "                '//*[@id=\"pw-oop-bottom_rail\"]/div[2]'\n",
    "            )\n",
    "            pg_btm_ad_element_to_close.click()\n",
    "        except:\n",
    "            print(\"no pg btm ad element on page\")\n",
    "\n",
    "        try:\n",
    "            pg_btm_ad_element_to_close_2 = driver.find_element(\n",
    "                By.XPATH,\n",
    "                '//*[@id=\"pw-oop-bottom_rail2\"]/div[2]'\n",
    "            )\n",
    "            pg_btm_ad_element_to_close_2.click()\n",
    "        except:\n",
    "            print(\"no pg btm ad 2 element on page\")"
   ]
  },
  {
   "cell_type": "markdown",
   "id": "a921e578",
   "metadata": {},
   "source": [
    "## Page Nav Functions"
   ]
  },
  {
   "cell_type": "code",
   "execution_count": 133,
   "id": "3402bc3d",
   "metadata": {},
   "outputs": [],
   "source": [
    "class CPLSeleniumPageNav:\n",
    "    @classmethod\n",
    "    def go_to_next_page(cls, driver):\n",
    "        next_page_element = driver.find_element(\n",
    "            By.XPATH,\n",
    "            '//*[@id=\"post-40339\"]/div/div[1]/div[4]/ul/li[8]/a'\n",
    "        )\n",
    "\n",
    "        # need to scroll down to click\n",
    "        # otherwise action will be caught by iframe/ads\n",
    "        scroll_into_view_js = 'document.querySelector(\"#post-40339 > div > div.pt-cv-wrapper > div.text-left.pt-cv-pagination-wrapper > ul > li.cv-pageitem-next > a\").scrollIntoView();'\n",
    "        driver.execute_script(scroll_into_view_js, next_page_element)\n",
    "        driver.execute_script(\"window.scrollBy(0, -50);\")\n",
    "\n",
    "        # checking to see if clicking does anything, or if button is already \"active\"\n",
    "        # todo: refactor to exclude already \"active\" (red) elements earlier?\n",
    "        current_url = driver.current_url # before click\n",
    "        print(current_url)\n",
    "        next_page_element.click()\n",
    "        print(driver.current_url)\n",
    "\n",
    "        # if the \"clicked\" page is new, then return True\n",
    "        # this will tell the calling function to use the results\n",
    "        # and continue looping\n",
    "        return (current_url != driver.current_url)\n",
    "    \n",
    "    @classmethod\n",
    "    def reset_to_first_page(cls, driver):\n",
    "        next_page_element = driver.find_element(\n",
    "            By.XPATH,\n",
    "            '//*[@id=\"post-40339\"]/div/div[1]/div[4]/ul/li[8]/a'\n",
    "        )\n",
    "        scroll_into_view_js = 'document.querySelector(\"#post-40339 > div > div.pt-cv-wrapper > div.text-left.pt-cv-pagination-wrapper > ul > li.cv-pageitem-next > a\").scrollIntoView();'\n",
    "        driver.execute_script(scroll_into_view_js, next_page_element)\n",
    "        driver.execute_script(\"window.scrollBy(0, -50);\")\n",
    "        first_page_carrots = driver.find_element(\n",
    "            By.XPATH,\n",
    "            '//*[@id=\"post-40339\"]/div/div[1]/div[4]/ul/li[1]/a'\n",
    "        )\n",
    "        first_page_carrots.click()\n",
    "    \n",
    "    @classmethod\n",
    "    def save_current_page(cls, driver, dest_dir):\n",
    "        dest = f\"{dest_dir}{date.today()}_{driver.current_url.split('?')[-1]}.html\"\n",
    "        print(dest)\n",
    "        source = driver.page_source\n",
    "        with open(dest, 'w') as f:\n",
    "            f.write(source)"
   ]
  },
  {
   "cell_type": "code",
   "execution_count": 140,
   "id": "1428f606",
   "metadata": {},
   "outputs": [
    {
     "name": "stdout",
     "output_type": "stream",
     "text": [
      "https://www.creepypasta.com/archive/?_orderby=date&_page=2\n",
      "https://www.creepypasta.com/archive/?_orderby=date&_page=3\n"
     ]
    },
    {
     "data": {
      "text/plain": [
       "True"
      ]
     },
     "execution_count": 140,
     "metadata": {},
     "output_type": "execute_result"
    }
   ],
   "source": [
    "# testing\n",
    "CPLSeleniumPageNav.go_to_next_page(cplm.driver)"
   ]
  },
  {
   "cell_type": "code",
   "execution_count": 136,
   "id": "57e5bfb0",
   "metadata": {},
   "outputs": [],
   "source": [
    "# testing\n",
    "CPLSeleniumPageNav.reset_to_first_page(cplm.driver)"
   ]
  },
  {
   "cell_type": "code",
   "execution_count": 141,
   "id": "3a28fd76",
   "metadata": {},
   "outputs": [
    {
     "name": "stdout",
     "output_type": "stream",
     "text": [
      "test/2023-07-25__orderby=date&_page=3.html\n"
     ]
    }
   ],
   "source": [
    "# testing\n",
    "CPLSeleniumPageNav.save_current_page(cplm.driver, cplm.test_dir)"
   ]
  },
  {
   "cell_type": "markdown",
   "id": "7f848b08",
   "metadata": {},
   "source": [
    "# Loop through and save all pages"
   ]
  },
  {
   "cell_type": "code",
   "execution_count": 126,
   "id": "5ad73519",
   "metadata": {},
   "outputs": [
    {
     "name": "stdout",
     "output_type": "stream",
     "text": [
      "no webdrivers open\n"
     ]
    }
   ],
   "source": [
    "cplm = CPLSeleniumManager()"
   ]
  },
  {
   "cell_type": "code",
   "execution_count": 142,
   "id": "5fd4b690",
   "metadata": {},
   "outputs": [
    {
     "name": "stdout",
     "output_type": "stream",
     "text": [
      "no signup popup element on page\n",
      "no pg top ad element on page\n",
      "no pg btm ad element on page\n",
      "no pg btm ad 2 element on page\n",
      "no signup popup element on page\n",
      "no pg top ad element on page\n",
      "no pg btm ad element on page\n",
      "no pg btm ad 2 element on page\n"
     ]
    }
   ],
   "source": [
    "cplm.close_popups()"
   ]
  },
  {
   "cell_type": "code",
   "execution_count": 110,
   "id": "92c0a95c",
   "metadata": {},
   "outputs": [],
   "source": [
    "#### NEED TO RETEST\n",
    "def get_all_list_pages(cplmanager):\n",
    "    # run for page 1\n",
    "    CPLSeleniumPageNav.save_current_page(cplmanager.driver, cplmanager.list_pages_dir)\n",
    "\n",
    "    # do the looping now\n",
    "    while True:\n",
    "        if not cplmanager.go_to_next_page(cplmanager.driver):\n",
    "            break\n",
    "        # todo: do a smarter wait, lol\n",
    "        time.sleep(2)\n",
    "        CPLSeleniumPageNav.save_current_page(cplmanager.driver, cplmanager.list_pages_dir)"
   ]
  },
  {
   "cell_type": "code",
   "execution_count": null,
   "id": "ea07b0b9",
   "metadata": {},
   "outputs": [],
   "source": []
  }
 ],
 "metadata": {
  "kernelspec": {
   "display_name": "Python 3 (ipykernel)",
   "language": "python",
   "name": "python3"
  },
  "language_info": {
   "codemirror_mode": {
    "name": "ipython",
    "version": 3
   },
   "file_extension": ".py",
   "mimetype": "text/x-python",
   "name": "python",
   "nbconvert_exporter": "python",
   "pygments_lexer": "ipython3",
   "version": "3.10.11"
  }
 },
 "nbformat": 4,
 "nbformat_minor": 5
}
