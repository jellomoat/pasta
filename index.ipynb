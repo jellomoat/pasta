{
 "cells": [
  {
   "cell_type": "markdown",
   "id": "0ec59de4-b84d-4819-aeed-06f38bd96c18",
   "metadata": {},
   "source": [
    "---\n",
    "title: \"🕯️ creepypasta-util\"\n",
    "toc: true\n",
    "format:\n",
    "  html:\n",
    "    html-math-method: katex\n",
    "    code-tools: true\n",
    "    self-contained: true\n",
    "execute:\n",
    "  warning: false\n",
    "---"
   ]
  },
  {
   "cell_type": "markdown",
   "id": "416dac89-af0f-45fb-9cbd-04463683de61",
   "metadata": {},
   "source": [
    "Package to crawl [CreepyPasta](https://www.creepypasta.com/) and parse into structured data."
   ]
  },
  {
   "cell_type": "markdown",
   "id": "6d2af204-b706-4dce-b825-aeb9a561a9c9",
   "metadata": {},
   "source": [
    "Bulk exports periodically made [available below](#data-exports)."
   ]
  },
  {
   "cell_type": "markdown",
   "id": "df05a610-d0ce-4096-af4b-1db5516e8d9d",
   "metadata": {},
   "source": [
    "## Installation"
   ]
  },
  {
   "cell_type": "markdown",
   "id": "54d694b4-c7d1-41a5-86b1-a5314a8c870f",
   "metadata": {},
   "source": [
    "Using pip"
   ]
  },
  {
   "cell_type": "code",
   "execution_count": 6,
   "id": "d95d6692-ecc2-4bb8-a002-a43aa0ec68dd",
   "metadata": {},
   "outputs": [],
   "source": [
    "# pip install creepypasta-util"
   ]
  },
  {
   "cell_type": "markdown",
   "id": "fa3fbc2b-d4e1-4885-8f61-6e172d120c04",
   "metadata": {},
   "source": [
    "From source"
   ]
  },
  {
   "cell_type": "code",
   "execution_count": 7,
   "id": "827414c3-0acb-45fb-9c36-cdb218ee012a",
   "metadata": {},
   "outputs": [],
   "source": [
    "# from source"
   ]
  },
  {
   "cell_type": "markdown",
   "id": "a2b2972d-10ed-4947-ba11-defe963a99cf",
   "metadata": {},
   "source": [
    "## Get structured data from Creepypasta.com"
   ]
  },
  {
   "cell_type": "markdown",
   "id": "3ea00c94-d2c7-40f4-8a4d-454f9335c725",
   "metadata": {},
   "source": [
    "### ✨ `get_all_list_pages(cplmanager)`"
   ]
  },
  {
   "cell_type": "markdown",
   "id": "2223d913-668a-4856-a7a8-b2eeedf453d6",
   "metadata": {},
   "source": [
    "This function:\n",
    "\n",
    "- `cplmanager`: an instance of `CPLSeleniumManager`\n",
    "- Clicks through creepypasta.com's archive of stories using Selenium\n",
    "- Saves each list of stories (urls) to disk, default `list-pages/`"
   ]
  },
  {
   "cell_type": "markdown",
   "id": "ae3c4cf1-8958-40ec-a349-cf531e646897",
   "metadata": {},
   "source": [
    "### ✨ `get_stories_from_listings_dirpath(dir_path)`"
   ]
  },
  {
   "cell_type": "markdown",
   "id": "d152d3ea-9c72-4f5d-a4b2-5a9b0cdd595b",
   "metadata": {},
   "source": [
    "This function: \n",
    "\n",
    "- Takes path to dir with listings (`dir_path`) \n",
    "- Parses the list-pages using `StoryListingsParser` \n",
    "- Gets or fetch all stories, saving to disk as needed using `CreepyPastaGetter` \n",
    "- Parses stories using `CreepyPastaSoupParser` \n",
    "- Returns structured output w/ story content and metadata "
   ]
  },
  {
   "cell_type": "markdown",
   "id": "421ba1bb-6323-437d-9fcf-fddceaa09720",
   "metadata": {},
   "source": [
    "## Simplest Usage"
   ]
  },
  {
   "cell_type": "markdown",
   "id": "244e5660-9876-43d6-9c41-1691d8914826",
   "metadata": {},
   "source": [
    "Opens browser, navigates to Creepypasta archive, iterates through and saves to disk each page of [stories list](https://www.creepypasta.com/archive/)."
   ]
  },
  {
   "cell_type": "code",
   "execution_count": 1,
   "id": "211ed6db-800d-4f17-8f69-b7427c228d3d",
   "metadata": {},
   "outputs": [],
   "source": [
    "# from creepypasta-util import CPLSeleniumManager, get_all_list_pages\n",
    "\n",
    "# cplm = CPLSeleniumManager()\n",
    "# cplm.close_popups()\n",
    "# get_all_list_pages(cplm)"
   ]
  },
  {
   "cell_type": "markdown",
   "id": "69f2c2c7-88f4-4cea-8095-cf7df2313399",
   "metadata": {},
   "source": [
    "Navigates through list pages retrieved with `CPLSeleniumManager` (above) to retrieve stories and load into a dataframe using `requests` module."
   ]
  },
  {
   "cell_type": "code",
   "execution_count": 2,
   "id": "4755b67c-3d39-4337-aaea-8ecd4c0f29ad",
   "metadata": {},
   "outputs": [],
   "source": [
    "# import pandas as pd\n",
    "\n",
    "# from creepypasta-util import get_stories_from_listings_dirpath\n",
    "\n",
    "# stories_dict_list = get_stories_from_listings_dirpath(\"./list-pages/\")\n",
    "# stories_df = pd.DataFrame(stories_dict_list)"
   ]
  },
  {
   "cell_type": "markdown",
   "id": "6bbff3fb-9e7f-4cc5-bcc2-7ccecc61938b",
   "metadata": {},
   "source": [
    "## Util Classes"
   ]
  },
  {
   "cell_type": "markdown",
   "id": "78cfea29-2fbf-4e8d-9984-6db7327e28f1",
   "metadata": {},
   "source": [
    "### from `autobrowse-pasta-listings.py`"
   ]
  },
  {
   "cell_type": "markdown",
   "id": "3d19eecb-0a29-4739-96eb-e7d484dab11f",
   "metadata": {},
   "source": [
    "#### `CPLSeleniumManager`\n",
    "Object to hold/access Selenium webdriver instance and set up destination directories for scraper."
   ]
  },
  {
   "cell_type": "markdown",
   "id": "d4f10304-347a-4069-bef2-7368e3a6a3db",
   "metadata": {},
   "source": [
    "Methods: \n",
    "\n",
    "  - `__init__(self)` \n",
    "    - Calls `setup_fetch_dirs(self)` to create directories for story-lists, stories, and test files if they don't yet exist \n",
    "    - Opens a new browser and returns webdriver instance \n",
    "    - Loads creepypasta archive using Selenium \n",
    "  - `open_driver(self)` \n",
    "    - Called during `__init__`, but can also be executed on its own to reset the browser \n",
    "    - Closes last open driver if needed \n",
    "    - Opens a new browser \n",
    "  - `close_popups(self)` \n",
    "    - Closes all popups that are visible on the page \n",
    "    - Runs twice, to handle ads with delayed loading \n",
    "    - Uses `CPLSeleniumAdHandler`'s methods "
   ]
  },
  {
   "cell_type": "markdown",
   "id": "e63627c3-5c60-4bd7-bcf9-8db67ae2451f",
   "metadata": {},
   "source": [
    "#### `CPLSeleniumAdHandler`\n",
    "Container for functions that close popups and ads."
   ]
  },
  {
   "cell_type": "markdown",
   "id": "c68876f7-69c3-4be8-a716-4dadd2fc77fc",
   "metadata": {},
   "source": [
    "Methods:\n",
    "\n",
    "- `close_first_popups(cls, driver)`\n",
    "  - `driver`: webdriver instance\n",
    "  -  Closes popups that first appear as creepypasta page is loading\n",
    "\n",
    "- `close_some_ads(cls, driver)` \n",
    "  - `driver`: webdriver instance \n",
    "  - Closes more ads that render on the page after initial load \n",
    "  - May want to run this on its own again for more delayed ads "
   ]
  },
  {
   "cell_type": "markdown",
   "id": "eb8da76b-d0b7-4db1-86e9-fde9c8ef2a09",
   "metadata": {},
   "source": [
    "#### `CPLSeleniumPageNav`\n",
    "Container for functions that navigate and save individual pages."
   ]
  },
  {
   "cell_type": "markdown",
   "id": "b0920f17-375e-4032-8fb0-3cb3901cd4b1",
   "metadata": {},
   "source": [
    "Methods:\n",
    "\n",
    "  - `go_to_next_page(driver)`\n",
    "    - `driver`: webdriver instance\n",
    "    - Navigates to next page\n",
    "    - In a loop, stops advancing pages on final page\n",
    "  - `reset_to_first_page(driver)` \n",
    "    - `driver`: webdriver instance \n",
    "    - Navigates back to first page \n",
    "  - `save_current_page(driver, dest_dir)` \n",
    "    - `driver`: webdriver instance \n",
    "    - `dest_dir`: directory files are saved to \n",
    "    - Saves `driver.page_source` for rendered page \n",
    "    - Default saves to `./list-pages/`, `./story-pages/`, `./test/` "
   ]
  },
  {
   "cell_type": "markdown",
   "id": "874bf087-40c6-4d95-a492-261abf40d052",
   "metadata": {},
   "source": [
    "### from `pasta-stories.py`"
   ]
  },
  {
   "cell_type": "markdown",
   "id": "26cd848b-eb07-4678-8f61-0036fc55f489",
   "metadata": {},
   "source": [
    "#### `StoryListingsParser`\n",
    "Container for methods parsing list-pages."
   ]
  },
  {
   "cell_type": "markdown",
   "id": "10039dbc-ba4d-4158-9e8c-c838a827b1d1",
   "metadata": {},
   "source": [
    "Methods:\n",
    "\n",
    "  - `write_json_of_story_links_dicts(cls, dir_path)`\n",
    "    - `dir_path`: directory with page_source files from\n",
    "        [Creepypasta archive](https://www.creepypasta.com/archive/?_orderby=date)\n",
    "    - Gets all story links using `get_all_story_links`\n",
    "    - Creates JSON file using `output_json`\n",
    "  - `get_all_story_links(cls, dir_path)`\n",
    "      - `dir_path`: directory with page_source files from\n",
    "        [Creepypasta archive](https://www.creepypasta.com/archive/?_orderby=date)\n",
    "      - Gets all files in `dir_path` directory\n",
    "      - Returns json-ready dict with all story links, by list page, using `parse_listings_get_story_links_per_page`\n",
    "\n",
    "Helper methods not listed: `parse_listings_get_story_links_per_page`, `output_json`"
   ]
  },
  {
   "cell_type": "markdown",
   "id": "8365d130-ebe2-4a85-a186-021f5abf8085",
   "metadata": {},
   "source": [
    "#### `PageFetcherUtils`\n",
    "Container for general utils non-specific to project."
   ]
  },
  {
   "cell_type": "markdown",
   "id": "232ec313-0445-417c-8d22-bbc0c9e471a2",
   "metadata": {},
   "source": [
    "Methods:\n",
    "\n",
    "- `fetch_page(cls, url)`\n",
    "    - This was needed to get ratings/reviews that are live-loaded on site\n",
    "- `get_html(cls, fpath)`\n",
    "    - `fpath`: path to file with saved `page_source`\n",
    "    - Opens and reads file to HTML\n",
    "- `get_all_files(cls, dir_path, debug)`\n",
    "    - `dir_path`: path to target directory\n",
    "    - Will list all files in specified directory"
   ]
  },
  {
   "cell_type": "markdown",
   "id": "8f2e0533-4558-4019-ba77-35221e85e58b",
   "metadata": {},
   "source": [
    "#### `CreepyPastaGetter`\n",
    "Gets/fetches stories from site."
   ]
  },
  {
   "cell_type": "markdown",
   "id": "ee68c820-d095-45be-8285-06910326f9cc",
   "metadata": {},
   "source": [
    "Methods: \n",
    "\n",
    "- `get_stories_list_dict(cls, stories_list_fpath)` \n",
    "  - `stories_list_fpath`: path to JSON file \n",
    "  - Opens and loads JSON file to dict \n",
    "- `fetch_pasta_pages(cls, list_page, links_list)` \n",
    "  - `list_page`: specific page # of the Creepypasta site archive \n",
    "  - `links_list`: links on that page to retrieve \n",
    "  - Using a list of links, finds/fetches story pages and writes to disk \n",
    "  - Logs fetching history using `story_writing_log` \n",
    "    \n",
    "Helper methods not listed: `error_writing_log(cls, exception, listing_fname, dest_fname, logname)`, `story_writing_log(cls, listing_fname, dest_fname, logname)` "
   ]
  },
  {
   "cell_type": "markdown",
   "id": "00041d87-f9e6-43da-bc1b-0cde94ddc0ee",
   "metadata": {},
   "source": [
    "#### `CreepyPastaSoupParser`\n",
    "Methods for parsing individual stories and all stories."
   ]
  },
  {
   "cell_type": "markdown",
   "id": "8a8d4fc1-311a-4a77-b86b-f62893887036",
   "metadata": {},
   "source": [
    "Methods:\n",
    "\n",
    "- `__init__(self, fpath_or_link, is_fpath)`\n",
    "- `get_soup(self, is_fpath)`\n",
    "- `get_all_stories(cls, stories_path)`\n",
    "- `parse_story(self)`\n",
    "- @property `story_link(self)`\n",
    "- @property `story_uuid(self)`\n",
    "- @property `published_date(self)`\n",
    "- @property `reading_time_min(self)`\n",
    "- @property `story_content(self)`\n",
    "- @property `author_content(self)`\n",
    "\n",
    "Helper methods not listed: `get_ratings_and_votes(cls, story_uuid)`,`__get_tags(self, tag)`, `__get_categories(self, tag)`, `__get_story_and_author_content(self)`"
   ]
  },
  {
   "cell_type": "markdown",
   "id": "2aef034a-94c4-4912-8317-0583f369a4c2",
   "metadata": {},
   "source": [
    "## Data Exports"
   ]
  },
  {
   "cell_type": "markdown",
   "id": "471f49a8-9ce3-4528-a884-f3d0e20ad5a1",
   "metadata": {},
   "source": [
    "[pasta/tree/main/data](https://github.com/jellomoat/pasta/tree/main/data)"
   ]
  },
  {
   "cell_type": "markdown",
   "id": "3aa2838b-45e5-4663-86b3-83d268b5a58c",
   "metadata": {},
   "source": [
    "## Methodology"
   ]
  },
  {
   "cell_type": "markdown",
   "id": "912ac05b-c472-497a-83bf-765e71ce4b71",
   "metadata": {},
   "source": [
    "### Getting listings from archive"
   ]
  },
  {
   "cell_type": "code",
   "execution_count": null,
   "id": "5f7de808-d6bc-48a0-a4fc-c5fe47ad2884",
   "metadata": {},
   "outputs": [],
   "source": []
  },
  {
   "cell_type": "markdown",
   "id": "300e8444-f891-4711-a64d-11c5afd4dad1",
   "metadata": {},
   "source": [
    "### Getting stories from listings"
   ]
  },
  {
   "cell_type": "code",
   "execution_count": null,
   "id": "398e2c7e-9d9f-4d9b-b727-660b67f6207d",
   "metadata": {},
   "outputs": [],
   "source": []
  },
  {
   "cell_type": "markdown",
   "id": "0fc960ab-925b-48af-8744-f57326d17440",
   "metadata": {},
   "source": [
    "### Source code"
   ]
  },
  {
   "cell_type": "markdown",
   "id": "db2ef50c-2c7d-4831-9515-793122f4d767",
   "metadata": {},
   "source": [
    "GitHub Repo: [https://github.com/jellomoat/pasta](https://github.com/jellomoat/pasta)"
   ]
  },
  {
   "cell_type": "markdown",
   "id": "2d7fa344-46b8-4daf-9c15-888c4fa9d8ee",
   "metadata": {
    "jp-MarkdownHeadingCollapsed": true
   },
   "source": [
    "### Questions Package Could Help Answer"
   ]
  },
  {
   "cell_type": "markdown",
   "id": "56cd6231-5df5-48cc-9433-7849dfbfa2f0",
   "metadata": {},
   "source": [
    "#### About Creepiness\n",
    "- What is creepy?\n",
    "- Where is creepy? (places, atmosphere)\n",
    "- Who is creepy?\n",
    "- CLOWNS??? Possessed???\n",
    "- Related: creepiness detector"
   ]
  },
  {
   "cell_type": "markdown",
   "id": "4615a7af-d970-4877-8be6-a416ba1ede86",
   "metadata": {},
   "source": [
    "#### About Creepy Writing\n",
    "- Sentiment arc in story\n",
    "- Long collocations\n",
    "- Happy endings\n",
    "- Central characters\n",
    "- Does anyone die, and who"
   ]
  },
  {
   "cell_type": "markdown",
   "id": "c52c6980-b697-4b40-a6a6-1373708ee5ad",
   "metadata": {
    "jp-MarkdownHeadingCollapsed": true
   },
   "source": [
    "### How this came into existence"
   ]
  },
  {
   "cell_type": "markdown",
   "id": "a942c997-3f18-450e-b3ce-3d6000d648a5",
   "metadata": {},
   "source": [
    "I wanted to write a story on creepypasta but spent nearly all my time this cycle getting and cleaning the data.  I'm sharing this as a data export and package because I think it's an interesting corpus to explore and because it took awhile to write utils to actually pull/scrape data off the site.\n",
    "\n",
    "I'm planning to occasionally push up updated data dumps.  However, this package can provide a quick means to get up-to-date creepypasta whenever."
   ]
  },
  {
   "cell_type": "markdown",
   "id": "c492998b-4f3f-4cc8-84a4-23dc338bf08b",
   "metadata": {},
   "source": [
    "### Questions, Suggestions, Etc."
   ]
  },
  {
   "cell_type": "markdown",
   "id": "78d55b00-5f9e-4127-ae6a-77f74e149422",
   "metadata": {},
   "source": [
    "Hi!&nbsp;&nbsp;Please message me using [this webform](https://www.jellomoat.com/contact) if you have feedback or just want to say hello.  :)"
   ]
  },
  {
   "cell_type": "markdown",
   "id": "4278fbb6-9b60-488e-974a-2378b9a883fb",
   "metadata": {
    "jp-MarkdownHeadingCollapsed": true
   },
   "source": [
    "👻 w/ ✨ @ [Lede](https://ledeprogram.com/)"
   ]
  },
  {
   "cell_type": "markdown",
   "id": "2078335d-7566-4631-8e91-82280bf086de",
   "metadata": {},
   "source": [
    "## Example Plots"
   ]
  },
  {
   "cell_type": "code",
   "execution_count": null,
   "id": "25fa80ec-c8e1-402a-a5d3-3f17183b6264",
   "metadata": {},
   "outputs": [],
   "source": []
  },
  {
   "cell_type": "code",
   "execution_count": null,
   "id": "0dfe221f-041c-446d-a263-e9ac47f705ab",
   "metadata": {},
   "outputs": [],
   "source": []
  },
  {
   "cell_type": "markdown",
   "id": "81698105-a786-4b05-bef1-9be76a5b8462",
   "metadata": {},
   "source": [
    "## Creepypasta IRL"
   ]
  },
  {
   "cell_type": "markdown",
   "id": "04ae196b-56ea-4a03-96c0-01c3dc90b0cf",
   "metadata": {},
   "source": [
    "#### Slender Man"
   ]
  },
  {
   "cell_type": "markdown",
   "id": "0df276cc-9540-45c5-8f66-dd8edf4be045",
   "metadata": {},
   "source": [
    "<a href=\"https://techcrunch.com/2014/06/30/the-story-of-slenderman-the-internets-own-monster/\"><img src=\"./images/TechCrunch.png\" title=\"The Story Of Slenderman, The Internet’s Own Monster\" width=\"45%\"></a> &emsp;&emsp; <a href=\"https://www.rollingstone.com/culture/culture-news/slender-man-from-horror-meme-to-inspiration-for-murder-248430/\"><img src=\"./images/RollingStone1.png\" title=\"Slender Man: From Horror Meme to Inspiration for Murder\" width=\"45%\"></a>\n",
    "\n",
    "\n",
    "<a href=\"https://www.refinery29.com/en-us/2017/04/148521/creepypasta-meme-slender-man-meaning\"><img src=\"./images/Refinery29.png\" title=\"The Bizarre Backstory Of The Slender Man Meme That Terrorized The Nation\" width=\"45%\"></a> &emsp; &emsp; <a href=\"https://www.bustle.com/articles/38857-girl-attempts-murder-for-slender-man-this-time-by-setting-house-on-fire\"><img src=\"./images/Bustle.png\" title=\"Slender Man Inspires Another Terrible Act\" width=\"45%\"></a> \n",
    "\n",
    "\n",
    "<a href=\"https://www.washingtonpost.com/news/the-intersect/wp/2014/06/10/dont-fear-the-slender-man/\"><img src=\"./images/WaPo.png\" title=\"Don't Fear the Slender Man\" width=\"45%\"></a> &emsp; &emsp; <a href=\"https://www.nbcnews.com/storyline/slender-man-stabbing/fantasy-slender-man-meme-inspires-horrific-wisconsin-stabbing-n121311\"><img src=\"./images/NBCNews.png\" title=\"Fantasy 'Slender Man' Meme Inspires Horrific Wisconsin Stabbing\" width=\"45%\"></a>\n",
    "\n",
    "\n",
    "<a href=\"https://www.cnn.com/2014/06/03/justice/wisconsin-girl-stabbed/index.html\"><img src=\"./images/CNN.png\" title=\"12-year-old Wisconsin girl stabbed 19 times; friends arrested\" width=\"45%\"></a>"
   ]
  },
  {
   "cell_type": "markdown",
   "id": "dcea6e23-3d86-42cc-a3a1-2646708f80fd",
   "metadata": {},
   "source": [
    "#### Clowns"
   ]
  },
  {
   "cell_type": "markdown",
   "id": "dff9e246-dbe2-47a1-acfb-e036ddc8d3ee",
   "metadata": {},
   "source": [
    "<a href=\"https://www.heraldtribune.com/story/news/local/sarasota/2016/10/04/anderson-wrinkles-creepy-clown-hiding-under-bed/2593097007/\"><img src=\"./images/HeraldTribune.png\" title=\"Anderson: Wrinkles, the creepy clown hiding under the bed\" width=\"45%\"></a> &emsp; &emsp; <a href=\"https://www.nytimes.com/roomfordebate/2016/10/14/whats-behind-the-spreading-creepy-clown-hysteria/sinister-clown-sightings-are-a-manifestation-of-fear\"><img src=\"./images/NYT1.png\" title=\"Sinister Clown Sightings Are a Manifestation of Fear\" width=\"45%\"></a>\n",
    "\n",
    "\n",
    "<a href=\"https://www.nytimes.com/2016/09/30/us/creepy-clown-hoaxes-arrests.html\"><img src=\"./images/NYT2.png\" title=\"Creepy Clown Hoaxes Lead to 12 Arrests in Multiple States\" width=\"45%\"></a> &emsp; &emsp; <a href=\"https://www.cbsnews.com/news/indiana-girl-12-said-clown-told-her-to-kill-stepmom/\"><img src=\"./images/CBSNews.png\" title='Indiana girl, 12, said \"clown\" told her to kill stepmom' width=\"45%\"></a>"
   ]
  },
  {
   "cell_type": "markdown",
   "id": "9a6577bf-7619-4a42-9ca0-8966b977f5e0",
   "metadata": {},
   "source": [
    "#### Momo"
   ]
  },
  {
   "cell_type": "markdown",
   "id": "62bbef25-485f-4cb2-b55e-381f2de10d0b",
   "metadata": {},
   "source": [
    "<a href=\"https://www.nytimes.com/2019/03/02/style/momo-mania-hoax.html\"><img src=\"./images/NYT3.png\" title=\"Momo Is As Real As We've Made Her\" width=\"45%\"></a> &emsp; &emsp;"
   ]
  },
  {
   "cell_type": "markdown",
   "id": "3d82b508-9fa1-4247-8d72-a38b57e6ac73",
   "metadata": {},
   "source": [
    "#### Huggy Wuggy"
   ]
  },
  {
   "cell_type": "markdown",
   "id": "4faeec12-649b-4674-b2ab-66baa7d2a497",
   "metadata": {},
   "source": [
    "<a href=\"https://www.rollingstone.com/culture/culture-news/huggy-wuggy-poppy-playtime-tiktok-youtube-panic-1334925/\"><img src=\"./images/RollingStone2.png\" title='Parents Are Freaking Out Over Huggy Wuggy, a Janky Blue Bear With Razor-Sharp Teeth' width=\"45%\"></a>"
   ]
  },
  {
   "cell_type": "markdown",
   "id": "7418e713-da49-4de4-a5f3-1d7dfd5480c2",
   "metadata": {},
   "source": [
    "#### Black-Eyed People"
   ]
  },
  {
   "cell_type": "markdown",
   "id": "c10e5f00-1c8c-44ca-9df6-c863350deaae",
   "metadata": {
    "jp-MarkdownHeadingCollapsed": true
   },
   "source": [
    "<a href=\"https://www.huffingtonpost.co.uk/2014/09/29/mystery-black-eyed-child-sightings-cannock-chase-_n_5898988.html\"><img src=\"./images/HuffPo.png\" title='Mystery Of Ghostly Black-Eyed Child Sightings On Cannock Chase' width=\"45%\"></a>"
   ]
  },
  {
   "cell_type": "markdown",
   "id": "dcdb1f81-cbcc-4625-a9cb-577ec08c3e0c",
   "metadata": {},
   "source": [
    "## Credits"
   ]
  },
  {
   "cell_type": "markdown",
   "id": "e82eae2e-9cc3-437b-b71f-4109069b31c1",
   "metadata": {},
   "source": [
    "#### Site Sources"
   ]
  },
  {
   "cell_type": "markdown",
   "id": "24119dea-5aac-4a44-8f8c-e9d9e7fe25eb",
   "metadata": {},
   "source": [
    "<img src=\"./images/creepypasta-logo.png\" alt=\"creepypasta logo\" style=\"height: 200px;\"></img>\n",
    "\n",
    "[Creepypasta Archive](https://www.creepypasta.com/archive/)"
   ]
  },
  {
   "cell_type": "markdown",
   "id": "55d9be71-5929-4a59-9965-af6d0bc78519",
   "metadata": {
    "jp-MarkdownHeadingCollapsed": true
   },
   "source": [
    "#### Original Authors"
   ]
  },
  {
   "cell_type": "markdown",
   "id": "58a2acbc-9b03-4cf0-bcc7-5bf12b79c760",
   "metadata": {},
   "source": [
    "as of 2023-07-26"
   ]
  },
  {
   "cell_type": "markdown",
   "id": "b8505a3f-ca9a-430d-9678-2306d2a7382a",
   "metadata": {},
   "source": [
    "363511, 4chan, 5yn, 666ItsFinnley, A J M, A School in Arizona, A.J. Garlisi, A.R Dooley, A.R. LaBaere, A.Y.R, ACWrites, AJ , Aaron C, Aaron Thompson, Aaron Way, Abbot Chambers, Abracadaver, Absurdity, Abysmii, Ace, Ada Mae Lovelace, Adam David, Adam Miller, Adam Olshikaliki, Adam Roberts, Ahaa Jan, Ahnika Vigil, Ahriannah, Ai841, Aidan Reeves, Aidanwyldd, AidenBoBaiden, AimToSnack, Alan Baker, Alayne Winters, AlecGman, Alex, Alex Hamann , Alex Lowe, Alex McIntosh, Alex Sorrow, Alexander McHugh, Alexander Quaresma, Alexander W, Ali, Alice Wilde., Alice1nWonder, Alicia Hawkins, Alistair Brendan Blood, Allison, Alyssa, Amanda Lloyd, Amelie Morris, Americium241, Amity Argot, Amused., An Drew, AnDrew the Awesome, Andrew LaBelle, Andrew Layden, Andrew Pendragon , Andy Weir, Andy and Laura, Angry_Mog, Anna Elise Groves, Annabelle Warren, Anne, Anony Mouse, Anonymity, Anonymous, Anthony, Anthony D., Anthony M. Rud , Antonia Blandin, Antonio Caos, Arachne., Arale R. Subrata, Archfeared, Archfeared., Ardentpurpose, Ariel Lowe, Aritra Majumdar, ArmTheAnon., Arthur Weinstein, Artyom Dereschuk , Ashcrown, Ashley B., Ashley Franz Holzmann, Ashley Rose Wellman , Ashton Kutcher, Astonished Lemons., Asvalder, Athena Bennett, Austin Johnson, Austin Ryan, Austin Williams, AuthorOfHorror25, Autumn Leaves, Avatar of Horror, Azdrazlarr., B. Boethius, B. Jimmy, B. Paige, B. Perkins, B.M. Drew, BATKUNTER, BPWrites , Baby_Teeth, BackAlleyLegend, BananaCorn., Banned In CP, Barbod, BaronVonRuthless91, BatsyCatsy, Bean Booney, Beefnuts, BehindAllTheFacades , Ben, Ben Fuller, Benjamin Goodrich, Benjamin Krause, Benjamin Sites , Bestsmolbean, Bevin Coon, BexLapis, Bexlapis, Billy Purdom, Bitters, BlackEyedClown., Blair C, Blake Carr and Blake Koning., Blake L. Patrick, Blake Rogers, Bleek, BloodEmpress, Bones., Bonnie Quinn , Boudica., Brad Grandrino, Brad H., Brad Towle, Braden Hicks, Bradley Edward Dress, Brady, Bram Stoker , BranF1akes, Brandon Faircloth , Brandon Harris, Brandt Minden, Breanna Bright, Brian F Carmody, Brian Martinez , Brianne Murphy, Brimar, Brittany Daniel, Brittney B., Bryan A Young, Bryan Asbury, Bryce Simmons, BryceArtzUnlimited, Burning Sexuality, C. Murphy, C. Noel Huff, C.F. Campbell, C.J. Henderson , C.L. McLendon a.k.a. L0CKED334 , CMT, CR Dobson, Caleb Pennington, Caleb Wilkerson, Calum S., Calum brooks, Calvin Levitt, Cameron, CanadianCowboy , Candid, Candy Lord, Captain Casserole, CaptainYetiZombie, Carl Bluesy, Carter Milford , Cassie G., Cat Voleur, Catcid, Catshapedvoid , CayseeNadine, Cecilia Vasquez, Celephais, ChairmanMeow, Charles Dickens , Charles Truax, Charles Ybdis, Charmberry, ChatterBox, Chester Peelflesh, Cheyenne Cox , Chinmoku, Chloe, Chris Phoenix, Chris PhoenixMore classic Creepypasta stories can be found here, Chris Stewart, Chris Stewart., Christian Burns, Christian Wallis , Christina Durner, Christinaa Danks, Christine Blackwicks, Christine Druga , Christine O, Christofu, Christopher David Le Quesne, Christopher Haynes, Christopher McBride\\nNote, Christopher Murray, Chuck Donahue, Clarissa, Clarissa., Clayton Bolyard, Cmak, Cockney Pasta, Coff_Syrup., CoffeeLover309, ColdErratic, Cole Long , Cole Villagomez, Colin Alexander, Colin Enteman , Collette Akile, Collicun Redeia, Colson LaCosa, Conical, Connie and Lauren., Connor Phillips , Cori Alexandra Trumbull, Corian Wornen, Corpse Child, CousinSpookyNoodles, Craig Waltman, Credit Link, Creepy Mole., Creepy Pasta Chef, CreepyQuantum, Creepypasta UK, Creepypasta Wiki, CreeyGuru, Crosby Allison, Crow, Cursed Comstock, Curtis Kammerer, Cydvicious, Cyrus Jay, D. L. Henry, D. M. Hutchins, D.A., D.A. Wilcox , D.Charles, D.R. Brigham, D.S. Ozolnieks, D.W. Tindell, Dagon_again, Dalir, Dalton, Dan C. , Dan Courier, Dan David , Dan Dawson, Dan., Dane MillerHass, Daniel DuBois, Daniel Z. Miller, Daniel Zaturensky, Danielle Elizabeth, Daren Salls, Dark Adalia, Dark Thirdperson , DarkCaveAllegories., DarkDecapodian., Daron Silvers, Dave Cash, David Bentley, David Clark, David Majewski, David Maloney , David Pointer , David Tiegen, David Walker, Dayofnight, Deadlights911\\nCredit Link, Dean Card, Decayed Doe, Declan Murphy, Deloesian, Depth Fiction , Derek, Derik Schindler, Derpyspaghetti, Desiree La Pinta, Devin Hoover , Devin Marcus, Devina Byrne, Devlin Riptide , Dexter Moloch, DifferentWind , DigitalRochambeau, Dillon Lester, Dirjel Junshin, DisneySecurity, Dominic Archer, DoubleDDucky, Douglas Greenwood a.k.a. Peter Divine, Dove Pharaoh, Dr. A.K. Stein, Dr. Elsewhere , Dranek, Drew Trippel, Dru., DtheJG, Dylan Broussard, Dylan Charles , Dylan Kamae Esbensen, Dylan M Skime, Dylan R. , E. Alan Rahn, E.A.D, E.P., E.S. Westhouse, EJ Robinson, Ebru Hal, Ed D., Eddie Price, Edmond Hamilton , Edmund Gray, Edward Jay Eskall, Edwin Crowe , Edwin H. Staten, Eegglshma, Eigengraulogy , EileenZere, EldritchVulpine , Eleanor Sciolistein, Elias D. Tavarez, Eliza Cason, Eljay, Ella Ann, Elmarco, Elmer Alvarez, Emails from the Darkside, Eman., Emelia Rohl, Emilie Magnus, Emily C. Burch , Emma Mae, Emmett Breda, EnZanity, Eoghan Ferguson, Eric Miller, EricJohnE, Erika Griffin, Erin Bates, Erin J. David, Eriq V., Ethan Renoe, EvantheNerd83, Evelyn Bertrand , EverhartofDarkness, Explosions Bonaparte, F. Maven, Facade., Fade, FallDownGirl, Falspar, Feral Sephrian, Fernando N., Filibu5ter, Finch , Finn MacCool, Flea., Formidala, Frank Phillips, Frank Wagers, Friction, Friendly_Stranger, Fritz Bassus , G. A. Plarisan, G. H. Appleby, G.H. Appleby, G.L. Fox , G.Stevenson98, G.Sturgis, GT, Gage Seitz, GameNWatch, Gemini, Gene, George Bokaris , George Hanna, George McGaffin JR, George T. Robertson , Georgia, Ghost of Seven Echoes, GirlInTheMirror, Girl_from_the_Crypt, Glitchrodgers , Goaruma, Goat, Grace Smith, GrandAdmiral, GreenEye, Greenson, Greg, Gregory Patrick, Greye La Spina , Guest., GuppyChild, H.D. Equels, H.F. Arnold, H.P. Lovecraft, H.P. Lovecraft , Hack Shuck, Hagbard23, Haley Hendershot , Haley Rene, Halie Gibson and Jaiden Shields, Hana O., Hannah, Hannah Arthur, HannahNanner, Hanniballus, Harper Boon, Harrison Dimpley, Harrison Prince , Harry Warfel, Hayden Dalby, Haze, Hazmatguy , HeartlessAtAFuneral, Helena Lovern, Hell Tourist, Hendetta., Henrik Syvertsen, HiddenHikari, Hien Van Nguyen III, Hispherey, Hloobs, Holly Radmacher, HrhDaf, Hugo, Hunter Beck, Hypodroid, I live in your closet, ICantBreatheAnymore0 , IQuackInTheDark, Ian Hudick, Ian O, Illegal Carrot , Ilothopskaty, ImGonnaBeThatGuy, In Me Lies Divinity, InfernalNightmare333 , InkPen, InsanityManagerie, Inscribe, Irrelevant, Isaac Cook, Itai Schwartz, Ivy Banks, Ivysir, J, J L Grimwood, J. B. Prunty, J. Bailey, J. Boogie, J. Brown, J. Catenaci, J. Delaney, J. Hoppe, J. Morgan, J. Nilmot, J. Northrop, J. Svogar, J.D. Lucien, J.F Sindel, J.F.Kreuz, J.Faunch, J.G. Cross, J.J. Cheesman, J.S. Roberts, J.Stan Shocker, J.V.L.P, JHubbbb., JPWilliams, JR Warrior, Jack, Jack LaCroix , Jack Roland, Jacob B, Jacob Derin, Jacob Harper, Jacob Mielke, Jacob Newell, Jacqueline Nym , Jade S., Jaguars147, Jake Harrison, James Colton, James Davis, James Hunter, James Quinn, James R. I. Peace, James V., Jameson Curnick, Jamie Carson, Jared Roberts , Jarvis B. Chavez, Jason Ackle, Jason Daniel Covey, Jason Fornwalt, Jason Mehl, Jason Tailor, Jay Rosmarin, Jay Vakarian, Jayson O, Jeff Grimm , Jeff Hartin, Jeff Miller, Jeffrey Riley, Jennifer Schrimpf, Jennifer Shell, Jered Kral, Jeremiah Brown, Jeremiah Sewell, Jerry Zhompson, Jess, Jesse Clark, Jesse Frawley, Jesse Neel, Jessi Cosgrove, Jessica, Jessica Charle , Jhoana T. Merino Martinez, Jimmy Reinstatler, Joe Terrell, Joel R. Hunt , John, John , John D. Connelley, John Westrick, Johnathan Nash, Johnathon Blanton, Johnny Strange , Johnz, Jon P., Jon Thomas, Jonathan Wojcik a.k.a. Bogleech, Joongus, Jordan, Jordan B, Jordan D., Jordan Little , Jordan S., Jordan Smith, Jordyn Walker, Jose Valdes, Josef K. , Joseph Cusumano, Josh Dean, Joshua Daeffler, Josiah Santos, Josias Gibbs, Josie Schave, Jpwilliams, Juan Martinez , Jubawub, Julian J. Alexander, Just a Guy, Justin Kyle Cutrer, Justin Pogue, Justin Suttles, Justin Tuts, K Beans, K. Brown, K. Maestro, K.B. Hurst , KB, Kaitou, Kara O, Kari F., Kari Leigh Solomon, Kash, KatKatastrophe, Katheliax, Katie and the City of Galveston, Katrina Slater, Kaylin Rutter, Kearsey W., Keji, Kelly Foster, Kellyn Kavanagh, Kendrik., Kenneth Kohl, Ketlyn Austen, Kevin Sharp, Kevin Thomas , Kez Mcindoe, Kiara Abspoel, Kilkenny., Killhawke1, Kilroy Jones, Kim Brown, Kingwerewolf13, Kissa, Kitsune9tails, KnitWolf, Kody Forbes, Kolpik, Kookymonster, KoolBiggieJ, KrazeeNinja, Kristal G., Kristen Bach, Kroney, Krys Rudderham, Krystina Shattles, Kuroha, Kyle, Kyle , Kyle Bailie, Kyle Y., Kyler Hughes, Kyu Arashibara, L. Chan , L. Sullivan, LAKK, LB Miller, LJ, LTD, La, Lady Ravensdale, LadyMidnight, Langster_Gangster, LateNightWritersClub, Laura Kent, Lauren Kujo, Leah Bloschichak, Lefty Northpaw, LemurBane, Leo Holt, Lexi, Lia le Fae, Liam K. Downie, LiamD, Lichtjunger, Lifelongslump, Lilith Luna, Lilith with Love, Lindsay , Lindsay S. , Link , Liquid_Dookie, Lockheart1220, Logan Falk, Lola Lo , Lola., Loraine Carlile, LordRex., LordyArg, Lou Redford , Love Westergren, Lozzaboi, Luella, Luke Mullard, Luna, Lunakinesis , Lydia Marshall, Lyn, M Barnett, M Johnson, M T, M. Collins., M. Green, M. Green., M. Hallfrisch, M. Hostetter, M. R. Ewoldsen, M. R. Ewoldsen , M.B., M.G. King, M.S. Rivera, M4Z3, MADDwriter, MJ, MKS1894, MR. H2O, MXXNY, MacabreMacaroni, Maddie Kate , MaggotMonarch, Maihaa Hamend, Maikode, Mallory Eddy , MangoMandems, Mara, Marc Green, Marc Green., Margurka, Mark Lannin, Mark Robinson, Marki Anderson , Master Kenobi., Matt, Matt Chatham., Matt Mascia, Matt Richardsen , Matteoarts a.k.a. Starfall , Matthew Lang, Matthew Mathis, Matthew Stacks, Max B, Max Kennedy, Max Mayfield, McSinister456, Me, Me.  I made it.\\nCredit Link, Megan Doorlag, Megan Hopkin, Megan Kate P, Megan Thompson, Melissa Talbot, Memory Mask, Meredith E. Ripper, Metal_Leg, Micah Rodney , Micha3l, Michael Abreu, Michael Benedetto, Michael Bertolini, Michael J. Tops, Michael Richardson, Michael VanWinkle, Michiel Gilissen, Midgetsinner, Mike, Mike Landy, Mike Maxim, Miles Purinton, MinisterofOwls , Mirai Nikki, Mistress Morgan, Mitchell, MmmBrainss, Mofucious , Mollie K, Molly Jackson, MonicaMishra0607, Moniker Lewinski, MontyBeth, Moonlit_Cove, Mophead, Morbid Mary, Morning Owl, Mr. Buffoonery, Mr. Fahrenheit, Mr. Zonic, MrDupin, MrDupin , Mrs. Fappings, MurderHouze, Muted Vocal, My Mother, MyNemphetamine, Myself, MysticTGOG, MysticalSilencer, N. Christ, N. Ravenel Bard, NamesJames , Natasha Maria Rajendram, Nathan James, Nathan., Nathaniel J. Nelson, Nathaniel Mirras, Navissa Kaiser, Naydin Rowland, Neesa Jones, Neil Ervin, Neil Lakeman, Neo., Nibris, Nicholas Gray , Nicholas Paschall, Nick Botic , Nick Labath, Nick Rashell , Nicolas Jeffords, Nikolaj Janushev, Nolan H, Nora Redding, NormalMax , Norris3, Nsmc99, NuttyPeasant , Nykolliboo, O Seasmith, OJ, Obnoxious Brit., ObsoleteGoat , Odemaker, Old_South, Oliver Alvarez, Oliver Hamel, Olivia , Olivia Neece, Omar A., Omny., OukaiElite, Owen Wirth, P.D. Williams, Pablo Dickens, Pablo Swaurez, Paddy Barrett , Paige Kauffman, Pandora, Papaver, Patricia Jones, Paul Breen Jnr, Pen_Phantom13, Pensive Soul, Perfect Flaw, Peter Frost David , Peter L., Phil Zona, Philip Courtney, Pierce Matthew Morrow, Pill., Pluto, Pointless Sentience, Poizn., Polum Chill, Popper Tron, Pradicus, Psymon Idahosa, Queen of the Moths , Questioner, Quinn., R. M. Staniforth, R.A. Brewster , R.B.Frank, R.G. Kinnard, R.K. Gorman , R.K. Hopkins, R.T. Maxim, RACHEL CHENEL, RB Frank, REC, Rachel Wesley, Rachele Bowman , Rad., RadLad, Radish, Rage, RaidenDP1, Raine, Raki, Raksha Keller, Rale song, RamsesThePigeon, Randal Ray, Randall Rydell Russell, Randy Ham, Rania, Raven Star, Razi, Rd855, Rebecca Genslinger, Rebecca Harding, RedBullReptar, RedNovaTyrant, Reddustwalker, Redhat, Ree, ReeseC, Ren Baek, Ren a.k.a. Jinbeizamezama , Ren1327, Reuven A., ReverendShmitty, Rhiannon Graham, Rhonnie Fordham , Richard S., Richard Saxon , Ricky Gearheart, Riley Vanderlip, Rob Graves, Rob Johnson, Robert Boelhouwer , Robert Cherry, Robert D Alsbury, Robert E. Howard , Robert F Jones, Robert Galvin, Robert Parris, Rocco Sabatino, Roman, Roman Gibbz, Rose, Rosemary Hamend, Ross Tyson , Ross wild, Roxanne Wilds, Royal, Roz, Rural Guy Horror, Ry Dandel, RyRy, Ryan Criss, Ryan Davies, Ryan Forrest, Ryan Matthew Plant, Ryan Miller, Ryan Peacock , Ryan Richard, Rylee Nickel, Rurik, S. Bailey, S.C. Young , S.M Christian, S.M. Patricks, S.P. Hickey, S.R. Underschultz , S.W. Rice, SFC_HeadShot., SJ Yeltag, SQ, SSA89, Sabrina S., Sage., Saintstorm, Salman Khattak, Sam Burke, Sam Gallenberger, Sam Riding, Sama, Samantha Kreger Shultz, Samantha Miyake, SammyTsuroka, Samuel Giest, Samuel Pomerantz, Sandra Varela , Sanguinolent, Sarah Jane, Sarah Tejchma, Sasha, Satine Fenner, Savannah Rodriguez, Scorch933, Scott, Scott Donnelly, Scott Landon, Scott Saxon, Scott Terror, Sean, Sean Heyboer , Sean Killigrew, Sean O, Sebastian, Sedonaraye, Seith Vale , Sewer, Shadow Lovely., Shadow2by4, ShadowScribe, Shadowswimmer77, Shaianne, Shannon, Shannon Higdon, Shaon Barua, Shatteredmind, Shaun, Shaun J, Shawnti Therrien a.k.a. Myrretah , Sheridan Shadrack , Sherman Smith , Shery, Shin, Shinra., Shogunfish, Shoulder, Sienna., SilentDefiance, SilentStorm, SilverFayte, Simon Corvax, Simon Simonian, Sin117, Sir Bedlam, SirScareme , Sirenita, Sister Vigilante, Smed, Smiles., Snowy The Cat, Sophie Norris, Soreface., Soren Narnia , Sorunuah, Spike1117, SpiritVoices, SpongyWaffles, Sprite of the Wold, Star Kindler, StarlessandBibleBlack , SteewpidZombie, Stefan Rasmussen, Stephan D. Harris, Stephanie Scissom , Stephen Pate, Stephen R. Grey , Stephen Sheets, Steve Lucan, Steve M., Steven P., Steven Shorter , Steven Trotter, Steven Winters, Steven_C, Stex85, Strange Storylines , Striker Flynn, Strucci., Stu Haack, Stuntcock. Confirmed via comments and his post on SA, Sugar Sharks, SugarD, SugarD., Sumedh Jadhav, Super creepy Pokemon hack, SuperQueen0208, SwordOfLands, Sylizar, T Striethorst., T. Shaw , T.L. Bodine, T.W.Burgess, TVATR, Tad Simonson, Tara Grimravn, Tara Pfeifer, Tatyana Tieken, Taylin, Taylorg, Teddy, Teddy Silva, Tekkactus., Tenac, TenaciousTee, Tenet, TerKoiz, Terran Morrow, Terrell Ortero, Tesla., TeslaCoilGirl, Thaddeus James , Thaddeus Yeung, ThaggyGunn, Thamires Luppi , Thana CreepyMistress, The Admin, The Captive, The Dead Canary, The Dead Canary  , The Dunnes., The Eye Of Providence, The Flea, The Hedonist., The Human Botfly, The King of Maggots, The Man on the Ceiling, The Quiet One, The Silicon Lemming, The Solemn Sage, The Watcher, TheAshKnight, TheBlueMovies, TheCoffinDancer., TheGreatNadir, TheGuyNamedEd, TheHootax, TheLadyCaza, TheOneWhoWalkedWithDeath, ThePolarPorfim, TheRe_Writes, TheRiddickles, TheRustlerofJimmiez, TheSplitPersonality, TheZomber, The_Seventh_Yew, Theren Alister, This is my first creepypasta, This was an actual thread on 2chan, Thomas Gayle, Thomas J. Sotvedt, Tiago Lopes, Tim van Kessel , TimedMistakes, Timothy Benson, Tober , Tobi\\nCredit Link, Tobias Wade, Todd Martin , Tom, Tom , Tom Beirne, Tomsteroni123, Toni, Tony Spampinato, Tower., Tracy Allen, Tracy Littlejohn, Traumatized Kitten, Traveller, Treehugger14, Trev Wavy, Trie, Trinsey Watch, Tropz, Truncheon, Turiya, Turtle, Twila Cheeseborough, Tyler Jensen, Tyler Ouellette, Tyler T, Uforia, Ullahshy, Ultra., Umbrello a.k.a. Umby Pokochan , UndeadSouls, UnimpressedStudios, Unknown, Unsolved Homicide, UrbexSpider, Vada Fanslau, Valmic S. Mukund, Vani Joeri, Vansh921, Vartomio Cain, Vaughn, Vel., Veritas_Animus\\nAuthor, Villan, Vince18, Violet Doe, Vivian Lu, Vys, W. I. Boggs, W.F. Harvey , W.S., Waffle Wednesday , Wampus , Wankershim, WarmSummerRain, WeatherfordandSkye, Wesley Baker , Wildfur365, Wilfred Liotta, Will Browning, Will H., WillFable, William Bowen, William Davis, William Dell, William Rayne, WiltedRose52, WolfMagic, WorldAwayTweedy, Woundlicker, Xeo, YOU CAN, Yarn_Spinner, Ye Ole Fire Chief, Yoko, Z.A. Phillips , Z.S. Davies, Zac Benson a.k.a. BenNasty , Zach, Zach Hicks , Zacharius Frost, Zack W., Zithra., Zumtimez, _allismine_, aCJohnson, abarbienamedken, adventurousemma, afish, allison poliak, annlarual, apoisonedlogic., arcaneGlissando, astharot, austinnf, authour ElegantButler, bansidhe, bez00mny., blackh3ll, brady sheets, buckeyegirl12, corpulent, ddrewpowell, disque, dogman_35, dreeds_tha_killa, drudy, e6811r, edf123, eldritchhat , entropyblues, entropyblues., esterk, f course. , failol, foreverandever., freeasinspeech, fytoftora, ggpoppie, grammarsam, hdalby33, heavyluda, hendo, iamMWH, iloveitpink, insomniaccccc, is given there either, joey517, kpanda, lalaluma, li, lilmissbean, link if this pasta has you at all intrigued, lolol., lucid nightmare, mngamojemo., morebrainsplx., mrmills45, my favorite anarchistic bastard, one , prolix, risen, robinswolfs, saucerhands, shiftingshadows.in, smilingjacks , somethinginthedark, spudford74, survivalprocedure, synthetic_child, t4bullock, themikedee, therealalyrog, thesplitpersonality, thetreesshallfall, zehawk"
   ]
  }
 ],
 "metadata": {
  "kernelspec": {
   "display_name": "Python 3 (ipykernel)",
   "language": "python",
   "name": "python3"
  },
  "language_info": {
   "codemirror_mode": {
    "name": "ipython",
    "version": 3
   },
   "file_extension": ".py",
   "mimetype": "text/x-python",
   "name": "python",
   "nbconvert_exporter": "python",
   "pygments_lexer": "ipython3",
   "version": "3.10.11"
  }
 },
 "nbformat": 4,
 "nbformat_minor": 5
}
